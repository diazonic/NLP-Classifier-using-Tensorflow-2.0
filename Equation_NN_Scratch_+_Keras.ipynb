{
  "nbformat": 4,
  "nbformat_minor": 0,
  "metadata": {
    "colab": {
      "name": "Equation NN - Scratch + Keras.ipynb",
      "provenance": [],
      "authorship_tag": "ABX9TyOhExSo54aQ5vnSxCNEUGow",
      "include_colab_link": true
    },
    "kernelspec": {
      "name": "python3",
      "display_name": "Python 3"
    }
  },
  "cells": [
    {
      "cell_type": "markdown",
      "metadata": {
        "id": "view-in-github",
        "colab_type": "text"
      },
      "source": [
        "<a href=\"https://colab.research.google.com/github/diazonic/NLP-Classifier-using-Tensorflow-2.0/blob/master/Equation_NN_Scratch_%2B_Keras.ipynb\" target=\"_parent\"><img src=\"https://colab.research.google.com/assets/colab-badge.svg\" alt=\"Open In Colab\"/></a>"
      ]
    },
    {
      "cell_type": "code",
      "metadata": {
        "id": "9fyfliw_mrPL",
        "colab_type": "code",
        "colab": {}
      },
      "source": [
        ""
      ],
      "execution_count": null,
      "outputs": []
    },
    {
      "cell_type": "code",
      "metadata": {
        "id": "99ZwSqOh3evC",
        "colab_type": "code",
        "colab": {}
      },
      "source": [
        "import tensorflow as tf\n",
        "import tensorflow.keras as keras"
      ],
      "execution_count": 1,
      "outputs": []
    },
    {
      "cell_type": "code",
      "metadata": {
        "id": "iCeEeOt_3pvw",
        "colab_type": "code",
        "colab": {
          "base_uri": "https://localhost:8080/",
          "height": 35
        },
        "outputId": "824c645e-73c6-4311-fe1e-8afd8cbd559b"
      },
      "source": [
        "tf.__version__"
      ],
      "execution_count": 2,
      "outputs": [
        {
          "output_type": "execute_result",
          "data": {
            "application/vnd.google.colaboratory.intrinsic+json": {
              "type": "string"
            },
            "text/plain": [
              "'2.3.0'"
            ]
          },
          "metadata": {
            "tags": []
          },
          "execution_count": 2
        }
      ]
    },
    {
      "cell_type": "code",
      "metadata": {
        "id": "Acnc7FjA3tsP",
        "colab_type": "code",
        "colab": {}
      },
      "source": [
        "import numpy as np\n",
        "x = np.array([1,2,3,4,5])\n",
        "y = np.array([-1,1,3,5,7])"
      ],
      "execution_count": 3,
      "outputs": []
    },
    {
      "cell_type": "code",
      "metadata": {
        "id": "T-a4JYe43-xS",
        "colab_type": "code",
        "colab": {}
      },
      "source": [
        "def hw(x):\n",
        "  y = (3*x)-2\n",
        "  print(y)"
      ],
      "execution_count": 4,
      "outputs": []
    },
    {
      "cell_type": "code",
      "metadata": {
        "id": "_-MfXu9Kophz",
        "colab_type": "code",
        "colab": {
          "base_uri": "https://localhost:8080/",
          "height": 34
        },
        "outputId": "78d6a53f-9737-4d5f-fc0a-3e209e820ada"
      },
      "source": [
        "hw(1)"
      ],
      "execution_count": 5,
      "outputs": [
        {
          "output_type": "stream",
          "text": [
            "1\n"
          ],
          "name": "stdout"
        }
      ]
    },
    {
      "cell_type": "code",
      "metadata": {
        "id": "UGpPGOP64SEV",
        "colab_type": "code",
        "colab": {}
      },
      "source": [
        "# Lets create a model\n",
        "\n",
        "model = tf.keras.Sequential([keras.layers.Dense(units = 1,input_shape = [1], activation = 'relu' )])"
      ],
      "execution_count": 6,
      "outputs": []
    },
    {
      "cell_type": "code",
      "metadata": {
        "id": "EJgYK4Ybo13O",
        "colab_type": "code",
        "colab": {
          "base_uri": "https://localhost:8080/",
          "height": 34
        },
        "outputId": "1103d25d-084f-44b4-9706-7a30735782ad"
      },
      "source": [
        "model.get_weights()"
      ],
      "execution_count": 7,
      "outputs": [
        {
          "output_type": "execute_result",
          "data": {
            "text/plain": [
              "[array([[1.6051601]], dtype=float32), array([0.], dtype=float32)]"
            ]
          },
          "metadata": {
            "tags": []
          },
          "execution_count": 7
        }
      ]
    },
    {
      "cell_type": "code",
      "metadata": {
        "id": "tut1VXau5CgB",
        "colab_type": "code",
        "colab": {}
      },
      "source": [
        "model.compile(optimizer='sgd', loss = 'mean_squared_error')"
      ],
      "execution_count": 8,
      "outputs": []
    },
    {
      "cell_type": "code",
      "metadata": {
        "id": "9vdfRfj3tcms",
        "colab_type": "code",
        "colab": {
          "base_uri": "https://localhost:8080/",
          "height": 50
        },
        "outputId": "f13881d5-d833-4fed-8e86-908565d396ad"
      },
      "source": [
        "model.fit(x,y)"
      ],
      "execution_count": 9,
      "outputs": [
        {
          "output_type": "stream",
          "text": [
            "1/1 [==============================] - 0s 2ms/step - loss: 3.6078\n"
          ],
          "name": "stdout"
        },
        {
          "output_type": "execute_result",
          "data": {
            "text/plain": [
              "<tensorflow.python.keras.callbacks.History at 0x7f35701bdc88>"
            ]
          },
          "metadata": {
            "tags": []
          },
          "execution_count": 9
        }
      ]
    },
    {
      "cell_type": "code",
      "metadata": {
        "id": "3zSDRsPHtiJl",
        "colab_type": "code",
        "colab": {
          "base_uri": "https://localhost:8080/",
          "height": 34
        },
        "outputId": "6dd59c38-45cb-4210-aef7-551786b0bae9"
      },
      "source": [
        "model.get_weights()"
      ],
      "execution_count": 10,
      "outputs": [
        {
          "output_type": "execute_result",
          "data": {
            "text/plain": [
              "[array([[1.5120249]], dtype=float32), array([-0.03630961], dtype=float32)]"
            ]
          },
          "metadata": {
            "tags": []
          },
          "execution_count": 10
        }
      ]
    },
    {
      "cell_type": "code",
      "metadata": {
        "id": "vs4cVB_ytlAQ",
        "colab_type": "code",
        "colab": {
          "base_uri": "https://localhost:8080/",
          "height": 101
        },
        "outputId": "cc7e1629-0f2e-4913-ca06-b2f148715362"
      },
      "source": [
        "y_pred = model.predict([1,2,3,4,5])\n",
        "y_pred"
      ],
      "execution_count": 16,
      "outputs": [
        {
          "output_type": "execute_result",
          "data": {
            "text/plain": [
              "array([[1.4757153],\n",
              "       [2.98774  ],\n",
              "       [4.499765 ],\n",
              "       [6.01179  ],\n",
              "       [7.5238147]], dtype=float32)"
            ]
          },
          "metadata": {
            "tags": []
          },
          "execution_count": 16
        }
      ]
    },
    {
      "cell_type": "code",
      "metadata": {
        "id": "a2ZUUVWfvA_w",
        "colab_type": "code",
        "colab": {}
      },
      "source": [
        "ypred = np.array([1.4757153,2.98774,4.499765,6.01179,7.5238147    ])"
      ],
      "execution_count": 45,
      "outputs": []
    },
    {
      "cell_type": "code",
      "metadata": {
        "id": "P2xpUyEQtqMa",
        "colab_type": "code",
        "colab": {
          "base_uri": "https://localhost:8080/",
          "height": 34
        },
        "outputId": "4b7ee76a-390f-47de-f185-63dc73095721"
      },
      "source": [
        "y = np.array([-1,1,3,5,7])\n",
        "y"
      ],
      "execution_count": 47,
      "outputs": [
        {
          "output_type": "execute_result",
          "data": {
            "text/plain": [
              "array([-1,  1,  3,  5,  7])"
            ]
          },
          "metadata": {
            "tags": []
          },
          "execution_count": 47
        }
      ]
    },
    {
      "cell_type": "code",
      "metadata": {
        "id": "2jhLF8abtwxv",
        "colab_type": "code",
        "colab": {
          "base_uri": "https://localhost:8080/",
          "height": 34
        },
        "outputId": "5245a63b-96dc-4b95-d377-2b3b06e5c995"
      },
      "source": [
        "from sklearn.metrics import mean_squared_error\n",
        "mean_squared_error(y,ypred)"
      ],
      "execution_count": 25,
      "outputs": [
        {
          "output_type": "execute_result",
          "data": {
            "text/plain": [
              "2.725534490703036"
            ]
          },
          "metadata": {
            "tags": []
          },
          "execution_count": 25
        }
      ]
    },
    {
      "cell_type": "code",
      "metadata": {
        "id": "tyx-BUMmvhXQ",
        "colab_type": "code",
        "colab": {
          "base_uri": "https://localhost:8080/",
          "height": 34
        },
        "outputId": "17b640aa-2015-4395-bef8-8804a8ff6865"
      },
      "source": [
        "mse = tf.keras.losses.MeanSquaredError()\n",
        "mse(y, ypred).numpy()"
      ],
      "execution_count": 29,
      "outputs": [
        {
          "output_type": "execute_result",
          "data": {
            "text/plain": [
              "2.725534439086914"
            ]
          },
          "metadata": {
            "tags": []
          },
          "execution_count": 29
        }
      ]
    },
    {
      "cell_type": "code",
      "metadata": {
        "id": "0zbVJccPvm_h",
        "colab_type": "code",
        "colab": {
          "base_uri": "https://localhost:8080/",
          "height": 34
        },
        "outputId": "7e6afb22-0c8e-488c-8f47-48111d8f1a5f"
      },
      "source": [
        "mse(y, ypred, sample_weight=[1.5120249]).numpy()"
      ],
      "execution_count": 48,
      "outputs": [
        {
          "output_type": "execute_result",
          "data": {
            "text/plain": [
              "4.1210761070251465"
            ]
          },
          "metadata": {
            "tags": []
          },
          "execution_count": 48
        }
      ]
    },
    {
      "cell_type": "code",
      "metadata": {
        "id": "4M8_vyavuRP2",
        "colab_type": "code",
        "colab": {
          "base_uri": "https://localhost:8080/",
          "height": 34
        },
        "outputId": "b2ef139b-de01-406a-fe2f-477f982251f1"
      },
      "source": [
        "import numpy as np\n",
        "np.square(np.subtract(ypred,y)).mean()"
      ],
      "execution_count": 26,
      "outputs": [
        {
          "output_type": "execute_result",
          "data": {
            "text/plain": [
              "2.725534490703036"
            ]
          },
          "metadata": {
            "tags": []
          },
          "execution_count": 26
        }
      ]
    },
    {
      "cell_type": "code",
      "metadata": {
        "id": "SpQ0Sz787auk",
        "colab_type": "code",
        "colab": {
          "base_uri": "https://localhost:8080/",
          "height": 1000
        },
        "outputId": "135c9902-a945-4a87-be92-9c13bb0dcabe"
      },
      "source": [
        "model.fit(x,y,epochs=500)"
      ],
      "execution_count": 49,
      "outputs": [
        {
          "output_type": "stream",
          "text": [
            "Epoch 1/500\n",
            "1/1 [==============================] - 0s 2ms/step - loss: 2.7255\n",
            "Epoch 2/500\n",
            "1/1 [==============================] - 0s 3ms/step - loss: 2.2072\n",
            "Epoch 3/500\n",
            "1/1 [==============================] - 0s 980us/step - loss: 1.9010\n",
            "Epoch 4/500\n",
            "1/1 [==============================] - 0s 2ms/step - loss: 1.7184\n",
            "Epoch 5/500\n",
            "1/1 [==============================] - 0s 2ms/step - loss: 1.6078\n",
            "Epoch 6/500\n",
            "1/1 [==============================] - 0s 1ms/step - loss: 1.5393\n",
            "Epoch 7/500\n",
            "1/1 [==============================] - 0s 2ms/step - loss: 1.4953\n",
            "Epoch 8/500\n",
            "1/1 [==============================] - 0s 2ms/step - loss: 1.4657\n",
            "Epoch 9/500\n",
            "1/1 [==============================] - 0s 2ms/step - loss: 1.4444\n",
            "Epoch 10/500\n",
            "1/1 [==============================] - 0s 2ms/step - loss: 1.4280\n",
            "Epoch 11/500\n",
            "1/1 [==============================] - 0s 2ms/step - loss: 1.4144\n",
            "Epoch 12/500\n",
            "1/1 [==============================] - 0s 2ms/step - loss: 1.4026\n",
            "Epoch 13/500\n",
            "1/1 [==============================] - 0s 2ms/step - loss: 1.3919\n",
            "Epoch 14/500\n",
            "1/1 [==============================] - 0s 2ms/step - loss: 1.3817\n",
            "Epoch 15/500\n",
            "1/1 [==============================] - 0s 2ms/step - loss: 1.3719\n",
            "Epoch 16/500\n",
            "1/1 [==============================] - 0s 2ms/step - loss: 1.3624\n",
            "Epoch 17/500\n",
            "1/1 [==============================] - 0s 2ms/step - loss: 1.3530\n",
            "Epoch 18/500\n",
            "1/1 [==============================] - 0s 2ms/step - loss: 1.3438\n",
            "Epoch 19/500\n",
            "1/1 [==============================] - 0s 2ms/step - loss: 1.3347\n",
            "Epoch 20/500\n",
            "1/1 [==============================] - 0s 2ms/step - loss: 1.3257\n",
            "Epoch 21/500\n",
            "1/1 [==============================] - 0s 2ms/step - loss: 1.3167\n",
            "Epoch 22/500\n",
            "1/1 [==============================] - 0s 2ms/step - loss: 1.3078\n",
            "Epoch 23/500\n",
            "1/1 [==============================] - 0s 2ms/step - loss: 1.2990\n",
            "Epoch 24/500\n",
            "1/1 [==============================] - 0s 2ms/step - loss: 1.2902\n",
            "Epoch 25/500\n",
            "1/1 [==============================] - 0s 2ms/step - loss: 1.2815\n",
            "Epoch 26/500\n",
            "1/1 [==============================] - 0s 3ms/step - loss: 1.2728\n",
            "Epoch 27/500\n",
            "1/1 [==============================] - 0s 2ms/step - loss: 1.2642\n",
            "Epoch 28/500\n",
            "1/1 [==============================] - 0s 2ms/step - loss: 1.2557\n",
            "Epoch 29/500\n",
            "1/1 [==============================] - 0s 2ms/step - loss: 1.2472\n",
            "Epoch 30/500\n",
            "1/1 [==============================] - 0s 4ms/step - loss: 1.2388\n",
            "Epoch 31/500\n",
            "1/1 [==============================] - 0s 4ms/step - loss: 1.2304\n",
            "Epoch 32/500\n",
            "1/1 [==============================] - 0s 2ms/step - loss: 1.2221\n",
            "Epoch 33/500\n",
            "1/1 [==============================] - 0s 3ms/step - loss: 1.2139\n",
            "Epoch 34/500\n",
            "1/1 [==============================] - 0s 2ms/step - loss: 1.2057\n",
            "Epoch 35/500\n",
            "1/1 [==============================] - 0s 1ms/step - loss: 1.1975\n",
            "Epoch 36/500\n",
            "1/1 [==============================] - 0s 1ms/step - loss: 1.1895\n",
            "Epoch 37/500\n",
            "1/1 [==============================] - 0s 1ms/step - loss: 1.1814\n",
            "Epoch 38/500\n",
            "1/1 [==============================] - 0s 1ms/step - loss: 1.1735\n",
            "Epoch 39/500\n",
            "1/1 [==============================] - 0s 1ms/step - loss: 1.1655\n",
            "Epoch 40/500\n",
            "1/1 [==============================] - 0s 2ms/step - loss: 1.1577\n",
            "Epoch 41/500\n",
            "1/1 [==============================] - 0s 2ms/step - loss: 1.1499\n",
            "Epoch 42/500\n",
            "1/1 [==============================] - 0s 1ms/step - loss: 1.1421\n",
            "Epoch 43/500\n",
            "1/1 [==============================] - 0s 1ms/step - loss: 1.1344\n",
            "Epoch 44/500\n",
            "1/1 [==============================] - 0s 1ms/step - loss: 1.1267\n",
            "Epoch 45/500\n",
            "1/1 [==============================] - 0s 1ms/step - loss: 1.1191\n",
            "Epoch 46/500\n",
            "1/1 [==============================] - 0s 1ms/step - loss: 1.1116\n",
            "Epoch 47/500\n",
            "1/1 [==============================] - 0s 2ms/step - loss: 1.1041\n",
            "Epoch 48/500\n",
            "1/1 [==============================] - 0s 1ms/step - loss: 1.0966\n",
            "Epoch 49/500\n",
            "1/1 [==============================] - 0s 1ms/step - loss: 1.0892\n",
            "Epoch 50/500\n",
            "1/1 [==============================] - 0s 2ms/step - loss: 1.0819\n",
            "Epoch 51/500\n",
            "1/1 [==============================] - 0s 2ms/step - loss: 1.0746\n",
            "Epoch 52/500\n",
            "1/1 [==============================] - 0s 1ms/step - loss: 1.0673\n",
            "Epoch 53/500\n",
            "1/1 [==============================] - 0s 2ms/step - loss: 1.0601\n",
            "Epoch 54/500\n",
            "1/1 [==============================] - 0s 2ms/step - loss: 1.0529\n",
            "Epoch 55/500\n",
            "1/1 [==============================] - 0s 2ms/step - loss: 1.0458\n",
            "Epoch 56/500\n",
            "1/1 [==============================] - 0s 2ms/step - loss: 1.0388\n",
            "Epoch 57/500\n",
            "1/1 [==============================] - 0s 2ms/step - loss: 1.0318\n",
            "Epoch 58/500\n",
            "1/1 [==============================] - 0s 2ms/step - loss: 1.0248\n",
            "Epoch 59/500\n",
            "1/1 [==============================] - 0s 6ms/step - loss: 1.0179\n",
            "Epoch 60/500\n",
            "1/1 [==============================] - 0s 2ms/step - loss: 1.0110\n",
            "Epoch 61/500\n",
            "1/1 [==============================] - 0s 1ms/step - loss: 1.0042\n",
            "Epoch 62/500\n",
            "1/1 [==============================] - 0s 4ms/step - loss: 0.9974\n",
            "Epoch 63/500\n",
            "1/1 [==============================] - 0s 2ms/step - loss: 0.9907\n",
            "Epoch 64/500\n",
            "1/1 [==============================] - 0s 4ms/step - loss: 0.9840\n",
            "Epoch 65/500\n",
            "1/1 [==============================] - 0s 3ms/step - loss: 0.9773\n",
            "Epoch 66/500\n",
            "1/1 [==============================] - 0s 3ms/step - loss: 0.9707\n",
            "Epoch 67/500\n",
            "1/1 [==============================] - 0s 3ms/step - loss: 0.9642\n",
            "Epoch 68/500\n",
            "1/1 [==============================] - 0s 3ms/step - loss: 0.9577\n",
            "Epoch 69/500\n",
            "1/1 [==============================] - 0s 3ms/step - loss: 0.9512\n",
            "Epoch 70/500\n",
            "1/1 [==============================] - 0s 2ms/step - loss: 0.9448\n",
            "Epoch 71/500\n",
            "1/1 [==============================] - 0s 2ms/step - loss: 0.9384\n",
            "Epoch 72/500\n",
            "1/1 [==============================] - 0s 2ms/step - loss: 0.9321\n",
            "Epoch 73/500\n",
            "1/1 [==============================] - 0s 2ms/step - loss: 0.9258\n",
            "Epoch 74/500\n",
            "1/1 [==============================] - 0s 2ms/step - loss: 0.9195\n",
            "Epoch 75/500\n",
            "1/1 [==============================] - 0s 2ms/step - loss: 0.9133\n",
            "Epoch 76/500\n",
            "1/1 [==============================] - 0s 2ms/step - loss: 0.9072\n",
            "Epoch 77/500\n",
            "1/1 [==============================] - 0s 2ms/step - loss: 0.9010\n",
            "Epoch 78/500\n",
            "1/1 [==============================] - 0s 2ms/step - loss: 0.8950\n",
            "Epoch 79/500\n",
            "1/1 [==============================] - 0s 2ms/step - loss: 0.8889\n",
            "Epoch 80/500\n",
            "1/1 [==============================] - 0s 2ms/step - loss: 0.8829\n",
            "Epoch 81/500\n",
            "1/1 [==============================] - 0s 2ms/step - loss: 0.8770\n",
            "Epoch 82/500\n",
            "1/1 [==============================] - 0s 1ms/step - loss: 0.8710\n",
            "Epoch 83/500\n",
            "1/1 [==============================] - 0s 2ms/step - loss: 0.8652\n",
            "Epoch 84/500\n",
            "1/1 [==============================] - 0s 2ms/step - loss: 0.8593\n",
            "Epoch 85/500\n",
            "1/1 [==============================] - 0s 2ms/step - loss: 0.8535\n",
            "Epoch 86/500\n",
            "1/1 [==============================] - 0s 2ms/step - loss: 0.8478\n",
            "Epoch 87/500\n",
            "1/1 [==============================] - 0s 2ms/step - loss: 0.8420\n",
            "Epoch 88/500\n",
            "1/1 [==============================] - 0s 2ms/step - loss: 0.8363\n",
            "Epoch 89/500\n",
            "1/1 [==============================] - 0s 2ms/step - loss: 0.8307\n",
            "Epoch 90/500\n",
            "1/1 [==============================] - 0s 2ms/step - loss: 0.8251\n",
            "Epoch 91/500\n",
            "1/1 [==============================] - 0s 2ms/step - loss: 0.8195\n",
            "Epoch 92/500\n",
            "1/1 [==============================] - 0s 2ms/step - loss: 0.8140\n",
            "Epoch 93/500\n",
            "1/1 [==============================] - 0s 2ms/step - loss: 0.8085\n",
            "Epoch 94/500\n",
            "1/1 [==============================] - 0s 2ms/step - loss: 0.8030\n",
            "Epoch 95/500\n",
            "1/1 [==============================] - 0s 2ms/step - loss: 0.7976\n",
            "Epoch 96/500\n",
            "1/1 [==============================] - 0s 2ms/step - loss: 0.7922\n",
            "Epoch 97/500\n",
            "1/1 [==============================] - 0s 2ms/step - loss: 0.7869\n",
            "Epoch 98/500\n",
            "1/1 [==============================] - 0s 2ms/step - loss: 0.7816\n",
            "Epoch 99/500\n",
            "1/1 [==============================] - 0s 2ms/step - loss: 0.7763\n",
            "Epoch 100/500\n",
            "1/1 [==============================] - 0s 2ms/step - loss: 0.7711\n",
            "Epoch 101/500\n",
            "1/1 [==============================] - 0s 2ms/step - loss: 0.7659\n",
            "Epoch 102/500\n",
            "1/1 [==============================] - 0s 2ms/step - loss: 0.7607\n",
            "Epoch 103/500\n",
            "1/1 [==============================] - 0s 2ms/step - loss: 0.7555\n",
            "Epoch 104/500\n",
            "1/1 [==============================] - 0s 2ms/step - loss: 0.7504\n",
            "Epoch 105/500\n",
            "1/1 [==============================] - 0s 2ms/step - loss: 0.7454\n",
            "Epoch 106/500\n",
            "1/1 [==============================] - 0s 2ms/step - loss: 0.7403\n",
            "Epoch 107/500\n",
            "1/1 [==============================] - 0s 2ms/step - loss: 0.7354\n",
            "Epoch 108/500\n",
            "1/1 [==============================] - 0s 2ms/step - loss: 0.7304\n",
            "Epoch 109/500\n",
            "1/1 [==============================] - 0s 2ms/step - loss: 0.7255\n",
            "Epoch 110/500\n",
            "1/1 [==============================] - 0s 2ms/step - loss: 0.7206\n",
            "Epoch 111/500\n",
            "1/1 [==============================] - 0s 2ms/step - loss: 0.7157\n",
            "Epoch 112/500\n",
            "1/1 [==============================] - 0s 2ms/step - loss: 0.7109\n",
            "Epoch 113/500\n",
            "1/1 [==============================] - 0s 2ms/step - loss: 0.7061\n",
            "Epoch 114/500\n",
            "1/1 [==============================] - 0s 2ms/step - loss: 0.7013\n",
            "Epoch 115/500\n",
            "1/1 [==============================] - 0s 2ms/step - loss: 0.6966\n",
            "Epoch 116/500\n",
            "1/1 [==============================] - 0s 2ms/step - loss: 0.6919\n",
            "Epoch 117/500\n",
            "1/1 [==============================] - 0s 2ms/step - loss: 0.6872\n",
            "Epoch 118/500\n",
            "1/1 [==============================] - 0s 1ms/step - loss: 0.6826\n",
            "Epoch 119/500\n",
            "1/1 [==============================] - 0s 2ms/step - loss: 0.6779\n",
            "Epoch 120/500\n",
            "1/1 [==============================] - 0s 2ms/step - loss: 0.6734\n",
            "Epoch 121/500\n",
            "1/1 [==============================] - 0s 1ms/step - loss: 0.6688\n",
            "Epoch 122/500\n",
            "1/1 [==============================] - 0s 2ms/step - loss: 0.6643\n",
            "Epoch 123/500\n",
            "1/1 [==============================] - 0s 2ms/step - loss: 0.6598\n",
            "Epoch 124/500\n",
            "1/1 [==============================] - 0s 2ms/step - loss: 0.6554\n",
            "Epoch 125/500\n",
            "1/1 [==============================] - 0s 2ms/step - loss: 0.6509\n",
            "Epoch 126/500\n",
            "1/1 [==============================] - 0s 2ms/step - loss: 0.6466\n",
            "Epoch 127/500\n",
            "1/1 [==============================] - 0s 2ms/step - loss: 0.6422\n",
            "Epoch 128/500\n",
            "1/1 [==============================] - 0s 2ms/step - loss: 0.6379\n",
            "Epoch 129/500\n",
            "1/1 [==============================] - 0s 1ms/step - loss: 0.6335\n",
            "Epoch 130/500\n",
            "1/1 [==============================] - 0s 2ms/step - loss: 0.6293\n",
            "Epoch 131/500\n",
            "1/1 [==============================] - 0s 2ms/step - loss: 0.6250\n",
            "Epoch 132/500\n",
            "1/1 [==============================] - 0s 2ms/step - loss: 0.6208\n",
            "Epoch 133/500\n",
            "1/1 [==============================] - 0s 2ms/step - loss: 0.6166\n",
            "Epoch 134/500\n",
            "1/1 [==============================] - 0s 2ms/step - loss: 0.6125\n",
            "Epoch 135/500\n",
            "1/1 [==============================] - 0s 2ms/step - loss: 0.6083\n",
            "Epoch 136/500\n",
            "1/1 [==============================] - 0s 1ms/step - loss: 0.6042\n",
            "Epoch 137/500\n",
            "1/1 [==============================] - 0s 1ms/step - loss: 0.6001\n",
            "Epoch 138/500\n",
            "1/1 [==============================] - 0s 2ms/step - loss: 0.5961\n",
            "Epoch 139/500\n",
            "1/1 [==============================] - 0s 2ms/step - loss: 0.5921\n",
            "Epoch 140/500\n",
            "1/1 [==============================] - 0s 2ms/step - loss: 0.5881\n",
            "Epoch 141/500\n",
            "1/1 [==============================] - 0s 2ms/step - loss: 0.5841\n",
            "Epoch 142/500\n",
            "1/1 [==============================] - 0s 2ms/step - loss: 0.5801\n",
            "Epoch 143/500\n",
            "1/1 [==============================] - 0s 2ms/step - loss: 0.5762\n",
            "Epoch 144/500\n",
            "1/1 [==============================] - 0s 2ms/step - loss: 0.5723\n",
            "Epoch 145/500\n",
            "1/1 [==============================] - 0s 3ms/step - loss: 0.5685\n",
            "Epoch 146/500\n",
            "1/1 [==============================] - 0s 2ms/step - loss: 0.5646\n",
            "Epoch 147/500\n",
            "1/1 [==============================] - 0s 2ms/step - loss: 0.5608\n",
            "Epoch 148/500\n",
            "1/1 [==============================] - 0s 2ms/step - loss: 0.5570\n",
            "Epoch 149/500\n",
            "1/1 [==============================] - 0s 4ms/step - loss: 0.5533\n",
            "Epoch 150/500\n",
            "1/1 [==============================] - 0s 3ms/step - loss: 0.5495\n",
            "Epoch 151/500\n",
            "1/1 [==============================] - 0s 2ms/step - loss: 0.5458\n",
            "Epoch 152/500\n",
            "1/1 [==============================] - 0s 3ms/step - loss: 0.5422\n",
            "Epoch 153/500\n",
            "1/1 [==============================] - 0s 2ms/step - loss: 0.5385\n",
            "Epoch 154/500\n",
            "1/1 [==============================] - 0s 2ms/step - loss: 0.5349\n",
            "Epoch 155/500\n",
            "1/1 [==============================] - 0s 4ms/step - loss: 0.5312\n",
            "Epoch 156/500\n",
            "1/1 [==============================] - 0s 2ms/step - loss: 0.5277\n",
            "Epoch 157/500\n",
            "1/1 [==============================] - 0s 2ms/step - loss: 0.5241\n",
            "Epoch 158/500\n",
            "1/1 [==============================] - 0s 3ms/step - loss: 0.5206\n",
            "Epoch 159/500\n",
            "1/1 [==============================] - 0s 2ms/step - loss: 0.5170\n",
            "Epoch 160/500\n",
            "1/1 [==============================] - 0s 3ms/step - loss: 0.5136\n",
            "Epoch 161/500\n",
            "1/1 [==============================] - 0s 2ms/step - loss: 0.5101\n",
            "Epoch 162/500\n",
            "1/1 [==============================] - 0s 1ms/step - loss: 0.5066\n",
            "Epoch 163/500\n",
            "1/1 [==============================] - 0s 1ms/step - loss: 0.5032\n",
            "Epoch 164/500\n",
            "1/1 [==============================] - 0s 2ms/step - loss: 0.4998\n",
            "Epoch 165/500\n",
            "1/1 [==============================] - 0s 1ms/step - loss: 0.4965\n",
            "Epoch 166/500\n",
            "1/1 [==============================] - 0s 1ms/step - loss: 0.4931\n",
            "Epoch 167/500\n",
            "1/1 [==============================] - 0s 1ms/step - loss: 0.4898\n",
            "Epoch 168/500\n",
            "1/1 [==============================] - 0s 1ms/step - loss: 0.4865\n",
            "Epoch 169/500\n",
            "1/1 [==============================] - 0s 1ms/step - loss: 0.4832\n",
            "Epoch 170/500\n",
            "1/1 [==============================] - 0s 1ms/step - loss: 0.4799\n",
            "Epoch 171/500\n",
            "1/1 [==============================] - 0s 1ms/step - loss: 0.4767\n",
            "Epoch 172/500\n",
            "1/1 [==============================] - 0s 1ms/step - loss: 0.4735\n",
            "Epoch 173/500\n",
            "1/1 [==============================] - 0s 1ms/step - loss: 0.4703\n",
            "Epoch 174/500\n",
            "1/1 [==============================] - 0s 1ms/step - loss: 0.4671\n",
            "Epoch 175/500\n",
            "1/1 [==============================] - 0s 1ms/step - loss: 0.4639\n",
            "Epoch 176/500\n",
            "1/1 [==============================] - 0s 2ms/step - loss: 0.4608\n",
            "Epoch 177/500\n",
            "1/1 [==============================] - 0s 2ms/step - loss: 0.4577\n",
            "Epoch 178/500\n",
            "1/1 [==============================] - 0s 2ms/step - loss: 0.4546\n",
            "Epoch 179/500\n",
            "1/1 [==============================] - 0s 1ms/step - loss: 0.4515\n",
            "Epoch 180/500\n",
            "1/1 [==============================] - 0s 4ms/step - loss: 0.4485\n",
            "Epoch 181/500\n",
            "1/1 [==============================] - 0s 1ms/step - loss: 0.4455\n",
            "Epoch 182/500\n",
            "1/1 [==============================] - 0s 1ms/step - loss: 0.4425\n",
            "Epoch 183/500\n",
            "1/1 [==============================] - 0s 2ms/step - loss: 0.4395\n",
            "Epoch 184/500\n",
            "1/1 [==============================] - 0s 2ms/step - loss: 0.4365\n",
            "Epoch 185/500\n",
            "1/1 [==============================] - 0s 1ms/step - loss: 0.4336\n",
            "Epoch 186/500\n",
            "1/1 [==============================] - 0s 2ms/step - loss: 0.4306\n",
            "Epoch 187/500\n",
            "1/1 [==============================] - 0s 1ms/step - loss: 0.4277\n",
            "Epoch 188/500\n",
            "1/1 [==============================] - 0s 2ms/step - loss: 0.4248\n",
            "Epoch 189/500\n",
            "1/1 [==============================] - 0s 1ms/step - loss: 0.4220\n",
            "Epoch 190/500\n",
            "1/1 [==============================] - 0s 1ms/step - loss: 0.4191\n",
            "Epoch 191/500\n",
            "1/1 [==============================] - 0s 1ms/step - loss: 0.4163\n",
            "Epoch 192/500\n",
            "1/1 [==============================] - 0s 3ms/step - loss: 0.4135\n",
            "Epoch 193/500\n",
            "1/1 [==============================] - 0s 1ms/step - loss: 0.4107\n",
            "Epoch 194/500\n",
            "1/1 [==============================] - 0s 1ms/step - loss: 0.4079\n",
            "Epoch 195/500\n",
            "1/1 [==============================] - 0s 1ms/step - loss: 0.4052\n",
            "Epoch 196/500\n",
            "1/1 [==============================] - 0s 1ms/step - loss: 0.4024\n",
            "Epoch 197/500\n",
            "1/1 [==============================] - 0s 1ms/step - loss: 0.3997\n",
            "Epoch 198/500\n",
            "1/1 [==============================] - 0s 2ms/step - loss: 0.3970\n",
            "Epoch 199/500\n",
            "1/1 [==============================] - 0s 2ms/step - loss: 0.3943\n",
            "Epoch 200/500\n",
            "1/1 [==============================] - 0s 2ms/step - loss: 0.3917\n",
            "Epoch 201/500\n",
            "1/1 [==============================] - 0s 1ms/step - loss: 0.3890\n",
            "Epoch 202/500\n",
            "1/1 [==============================] - 0s 1ms/step - loss: 0.3864\n",
            "Epoch 203/500\n",
            "1/1 [==============================] - 0s 1ms/step - loss: 0.3838\n",
            "Epoch 204/500\n",
            "1/1 [==============================] - 0s 1ms/step - loss: 0.3812\n",
            "Epoch 205/500\n",
            "1/1 [==============================] - 0s 1ms/step - loss: 0.3786\n",
            "Epoch 206/500\n",
            "1/1 [==============================] - 0s 1ms/step - loss: 0.3761\n",
            "Epoch 207/500\n",
            "1/1 [==============================] - 0s 1ms/step - loss: 0.3735\n",
            "Epoch 208/500\n",
            "1/1 [==============================] - 0s 1ms/step - loss: 0.3710\n",
            "Epoch 209/500\n",
            "1/1 [==============================] - 0s 1ms/step - loss: 0.3685\n",
            "Epoch 210/500\n",
            "1/1 [==============================] - 0s 1ms/step - loss: 0.3660\n",
            "Epoch 211/500\n",
            "1/1 [==============================] - 0s 2ms/step - loss: 0.3636\n",
            "Epoch 212/500\n",
            "1/1 [==============================] - 0s 2ms/step - loss: 0.3611\n",
            "Epoch 213/500\n",
            "1/1 [==============================] - 0s 1ms/step - loss: 0.3587\n",
            "Epoch 214/500\n",
            "1/1 [==============================] - 0s 1ms/step - loss: 0.3562\n",
            "Epoch 215/500\n",
            "1/1 [==============================] - 0s 1ms/step - loss: 0.3538\n",
            "Epoch 216/500\n",
            "1/1 [==============================] - 0s 1ms/step - loss: 0.3514\n",
            "Epoch 217/500\n",
            "1/1 [==============================] - 0s 1ms/step - loss: 0.3491\n",
            "Epoch 218/500\n",
            "1/1 [==============================] - 0s 1ms/step - loss: 0.3476\n",
            "Epoch 219/500\n",
            "1/1 [==============================] - 0s 1ms/step - loss: 0.3460\n",
            "Epoch 220/500\n",
            "1/1 [==============================] - 0s 1ms/step - loss: 0.3445\n",
            "Epoch 221/500\n",
            "1/1 [==============================] - 0s 2ms/step - loss: 0.3431\n",
            "Epoch 222/500\n",
            "1/1 [==============================] - 0s 1ms/step - loss: 0.3423\n",
            "Epoch 223/500\n",
            "1/1 [==============================] - 0s 1ms/step - loss: 0.3408\n",
            "Epoch 224/500\n",
            "1/1 [==============================] - 0s 1ms/step - loss: 0.3399\n",
            "Epoch 225/500\n",
            "1/1 [==============================] - 0s 1ms/step - loss: 0.3395\n",
            "Epoch 226/500\n",
            "1/1 [==============================] - 0s 1ms/step - loss: 0.3384\n",
            "Epoch 227/500\n",
            "1/1 [==============================] - 0s 1ms/step - loss: 0.3377\n",
            "Epoch 228/500\n",
            "1/1 [==============================] - 0s 1ms/step - loss: 0.3370\n",
            "Epoch 229/500\n",
            "1/1 [==============================] - 0s 1ms/step - loss: 0.3365\n",
            "Epoch 230/500\n",
            "1/1 [==============================] - 0s 1ms/step - loss: 0.3361\n",
            "Epoch 231/500\n",
            "1/1 [==============================] - 0s 1ms/step - loss: 0.3356\n",
            "Epoch 232/500\n",
            "1/1 [==============================] - 0s 1ms/step - loss: 0.3352\n",
            "Epoch 233/500\n",
            "1/1 [==============================] - 0s 1ms/step - loss: 0.3348\n",
            "Epoch 234/500\n",
            "1/1 [==============================] - 0s 1ms/step - loss: 0.3345\n",
            "Epoch 235/500\n",
            "1/1 [==============================] - 0s 1ms/step - loss: 0.3341\n",
            "Epoch 236/500\n",
            "1/1 [==============================] - 0s 1ms/step - loss: 0.3337\n",
            "Epoch 237/500\n",
            "1/1 [==============================] - 0s 1ms/step - loss: 0.3333\n",
            "Epoch 238/500\n",
            "1/1 [==============================] - 0s 1ms/step - loss: 0.3330\n",
            "Epoch 239/500\n",
            "1/1 [==============================] - 0s 1ms/step - loss: 0.3326\n",
            "Epoch 240/500\n",
            "1/1 [==============================] - 0s 4ms/step - loss: 0.3322\n",
            "Epoch 241/500\n",
            "1/1 [==============================] - 0s 2ms/step - loss: 0.3319\n",
            "Epoch 242/500\n",
            "1/1 [==============================] - 0s 1ms/step - loss: 0.3315\n",
            "Epoch 243/500\n",
            "1/1 [==============================] - 0s 1ms/step - loss: 0.3311\n",
            "Epoch 244/500\n",
            "1/1 [==============================] - 0s 1ms/step - loss: 0.3308\n",
            "Epoch 245/500\n",
            "1/1 [==============================] - 0s 1ms/step - loss: 0.3304\n",
            "Epoch 246/500\n",
            "1/1 [==============================] - 0s 1ms/step - loss: 0.3300\n",
            "Epoch 247/500\n",
            "1/1 [==============================] - 0s 1ms/step - loss: 0.3297\n",
            "Epoch 248/500\n",
            "1/1 [==============================] - 0s 1ms/step - loss: 0.3293\n",
            "Epoch 249/500\n",
            "1/1 [==============================] - 0s 1ms/step - loss: 0.3290\n",
            "Epoch 250/500\n",
            "1/1 [==============================] - 0s 1ms/step - loss: 0.3286\n",
            "Epoch 251/500\n",
            "1/1 [==============================] - 0s 1ms/step - loss: 0.3282\n",
            "Epoch 252/500\n",
            "1/1 [==============================] - 0s 1ms/step - loss: 0.3279\n",
            "Epoch 253/500\n",
            "1/1 [==============================] - 0s 1ms/step - loss: 0.3275\n",
            "Epoch 254/500\n",
            "1/1 [==============================] - 0s 1ms/step - loss: 0.3272\n",
            "Epoch 255/500\n",
            "1/1 [==============================] - 0s 1ms/step - loss: 0.3268\n",
            "Epoch 256/500\n",
            "1/1 [==============================] - 0s 1ms/step - loss: 0.3265\n",
            "Epoch 257/500\n",
            "1/1 [==============================] - 0s 1ms/step - loss: 0.3261\n",
            "Epoch 258/500\n",
            "1/1 [==============================] - 0s 1ms/step - loss: 0.3258\n",
            "Epoch 259/500\n",
            "1/1 [==============================] - 0s 1ms/step - loss: 0.3254\n",
            "Epoch 260/500\n",
            "1/1 [==============================] - 0s 1ms/step - loss: 0.3251\n",
            "Epoch 261/500\n",
            "1/1 [==============================] - 0s 1ms/step - loss: 0.3247\n",
            "Epoch 262/500\n",
            "1/1 [==============================] - 0s 1ms/step - loss: 0.3244\n",
            "Epoch 263/500\n",
            "1/1 [==============================] - 0s 1ms/step - loss: 0.3240\n",
            "Epoch 264/500\n",
            "1/1 [==============================] - 0s 1ms/step - loss: 0.3237\n",
            "Epoch 265/500\n",
            "1/1 [==============================] - 0s 1ms/step - loss: 0.3234\n",
            "Epoch 266/500\n",
            "1/1 [==============================] - 0s 1ms/step - loss: 0.3230\n",
            "Epoch 267/500\n",
            "1/1 [==============================] - 0s 1ms/step - loss: 0.3227\n",
            "Epoch 268/500\n",
            "1/1 [==============================] - 0s 2ms/step - loss: 0.3223\n",
            "Epoch 269/500\n",
            "1/1 [==============================] - 0s 1ms/step - loss: 0.3220\n",
            "Epoch 270/500\n",
            "1/1 [==============================] - 0s 3ms/step - loss: 0.3217\n",
            "Epoch 271/500\n",
            "1/1 [==============================] - 0s 2ms/step - loss: 0.3213\n",
            "Epoch 272/500\n",
            "1/1 [==============================] - 0s 1ms/step - loss: 0.3210\n",
            "Epoch 273/500\n",
            "1/1 [==============================] - 0s 1ms/step - loss: 0.3206\n",
            "Epoch 274/500\n",
            "1/1 [==============================] - 0s 1ms/step - loss: 0.3203\n",
            "Epoch 275/500\n",
            "1/1 [==============================] - 0s 4ms/step - loss: 0.3200\n",
            "Epoch 276/500\n",
            "1/1 [==============================] - 0s 2ms/step - loss: 0.3196\n",
            "Epoch 277/500\n",
            "1/1 [==============================] - 0s 2ms/step - loss: 0.3193\n",
            "Epoch 278/500\n",
            "1/1 [==============================] - 0s 2ms/step - loss: 0.3190\n",
            "Epoch 279/500\n",
            "1/1 [==============================] - 0s 3ms/step - loss: 0.3187\n",
            "Epoch 280/500\n",
            "1/1 [==============================] - 0s 2ms/step - loss: 0.3183\n",
            "Epoch 281/500\n",
            "1/1 [==============================] - 0s 2ms/step - loss: 0.3180\n",
            "Epoch 282/500\n",
            "1/1 [==============================] - 0s 2ms/step - loss: 0.3177\n",
            "Epoch 283/500\n",
            "1/1 [==============================] - 0s 2ms/step - loss: 0.3173\n",
            "Epoch 284/500\n",
            "1/1 [==============================] - 0s 2ms/step - loss: 0.3170\n",
            "Epoch 285/500\n",
            "1/1 [==============================] - 0s 2ms/step - loss: 0.3167\n",
            "Epoch 286/500\n",
            "1/1 [==============================] - 0s 2ms/step - loss: 0.3164\n",
            "Epoch 287/500\n",
            "1/1 [==============================] - 0s 2ms/step - loss: 0.3160\n",
            "Epoch 288/500\n",
            "1/1 [==============================] - 0s 2ms/step - loss: 0.3157\n",
            "Epoch 289/500\n",
            "1/1 [==============================] - 0s 2ms/step - loss: 0.3154\n",
            "Epoch 290/500\n",
            "1/1 [==============================] - 0s 2ms/step - loss: 0.3151\n",
            "Epoch 291/500\n",
            "1/1 [==============================] - 0s 2ms/step - loss: 0.3148\n",
            "Epoch 292/500\n",
            "1/1 [==============================] - 0s 2ms/step - loss: 0.3144\n",
            "Epoch 293/500\n",
            "1/1 [==============================] - 0s 2ms/step - loss: 0.3141\n",
            "Epoch 294/500\n",
            "1/1 [==============================] - 0s 2ms/step - loss: 0.3138\n",
            "Epoch 295/500\n",
            "1/1 [==============================] - 0s 2ms/step - loss: 0.3135\n",
            "Epoch 296/500\n",
            "1/1 [==============================] - 0s 2ms/step - loss: 0.3132\n",
            "Epoch 297/500\n",
            "1/1 [==============================] - 0s 2ms/step - loss: 0.3129\n",
            "Epoch 298/500\n",
            "1/1 [==============================] - 0s 3ms/step - loss: 0.3126\n",
            "Epoch 299/500\n",
            "1/1 [==============================] - 0s 2ms/step - loss: 0.3122\n",
            "Epoch 300/500\n",
            "1/1 [==============================] - 0s 4ms/step - loss: 0.3119\n",
            "Epoch 301/500\n",
            "1/1 [==============================] - 0s 2ms/step - loss: 0.3116\n",
            "Epoch 302/500\n",
            "1/1 [==============================] - 0s 2ms/step - loss: 0.3113\n",
            "Epoch 303/500\n",
            "1/1 [==============================] - 0s 2ms/step - loss: 0.3110\n",
            "Epoch 304/500\n",
            "1/1 [==============================] - 0s 2ms/step - loss: 0.3107\n",
            "Epoch 305/500\n",
            "1/1 [==============================] - 0s 2ms/step - loss: 0.3104\n",
            "Epoch 306/500\n",
            "1/1 [==============================] - 0s 2ms/step - loss: 0.3101\n",
            "Epoch 307/500\n",
            "1/1 [==============================] - 0s 2ms/step - loss: 0.3098\n",
            "Epoch 308/500\n",
            "1/1 [==============================] - 0s 2ms/step - loss: 0.3095\n",
            "Epoch 309/500\n",
            "1/1 [==============================] - 0s 2ms/step - loss: 0.3092\n",
            "Epoch 310/500\n",
            "1/1 [==============================] - 0s 1ms/step - loss: 0.3089\n",
            "Epoch 311/500\n",
            "1/1 [==============================] - 0s 1ms/step - loss: 0.3086\n",
            "Epoch 312/500\n",
            "1/1 [==============================] - 0s 1ms/step - loss: 0.3083\n",
            "Epoch 313/500\n",
            "1/1 [==============================] - 0s 2ms/step - loss: 0.3080\n",
            "Epoch 314/500\n",
            "1/1 [==============================] - 0s 2ms/step - loss: 0.3077\n",
            "Epoch 315/500\n",
            "1/1 [==============================] - 0s 1ms/step - loss: 0.3074\n",
            "Epoch 316/500\n",
            "1/1 [==============================] - 0s 2ms/step - loss: 0.3071\n",
            "Epoch 317/500\n",
            "1/1 [==============================] - 0s 1ms/step - loss: 0.3068\n",
            "Epoch 318/500\n",
            "1/1 [==============================] - 0s 2ms/step - loss: 0.3065\n",
            "Epoch 319/500\n",
            "1/1 [==============================] - 0s 2ms/step - loss: 0.3062\n",
            "Epoch 320/500\n",
            "1/1 [==============================] - 0s 1ms/step - loss: 0.3059\n",
            "Epoch 321/500\n",
            "1/1 [==============================] - 0s 1ms/step - loss: 0.3056\n",
            "Epoch 322/500\n",
            "1/1 [==============================] - 0s 1ms/step - loss: 0.3053\n",
            "Epoch 323/500\n",
            "1/1 [==============================] - 0s 1ms/step - loss: 0.3050\n",
            "Epoch 324/500\n",
            "1/1 [==============================] - 0s 2ms/step - loss: 0.3047\n",
            "Epoch 325/500\n",
            "1/1 [==============================] - 0s 2ms/step - loss: 0.3044\n",
            "Epoch 326/500\n",
            "1/1 [==============================] - 0s 2ms/step - loss: 0.3041\n",
            "Epoch 327/500\n",
            "1/1 [==============================] - 0s 2ms/step - loss: 0.3038\n",
            "Epoch 328/500\n",
            "1/1 [==============================] - 0s 2ms/step - loss: 0.3036\n",
            "Epoch 329/500\n",
            "1/1 [==============================] - 0s 2ms/step - loss: 0.3033\n",
            "Epoch 330/500\n",
            "1/1 [==============================] - 0s 2ms/step - loss: 0.3030\n",
            "Epoch 331/500\n",
            "1/1 [==============================] - 0s 1ms/step - loss: 0.3027\n",
            "Epoch 332/500\n",
            "1/1 [==============================] - 0s 1ms/step - loss: 0.3024\n",
            "Epoch 333/500\n",
            "1/1 [==============================] - 0s 2ms/step - loss: 0.3021\n",
            "Epoch 334/500\n",
            "1/1 [==============================] - 0s 1ms/step - loss: 0.3018\n",
            "Epoch 335/500\n",
            "1/1 [==============================] - 0s 1ms/step - loss: 0.3016\n",
            "Epoch 336/500\n",
            "1/1 [==============================] - 0s 2ms/step - loss: 0.3013\n",
            "Epoch 337/500\n",
            "1/1 [==============================] - 0s 2ms/step - loss: 0.3010\n",
            "Epoch 338/500\n",
            "1/1 [==============================] - 0s 1ms/step - loss: 0.3007\n",
            "Epoch 339/500\n",
            "1/1 [==============================] - 0s 1ms/step - loss: 0.3004\n",
            "Epoch 340/500\n",
            "1/1 [==============================] - 0s 1ms/step - loss: 0.3002\n",
            "Epoch 341/500\n",
            "1/1 [==============================] - 0s 1ms/step - loss: 0.2999\n",
            "Epoch 342/500\n",
            "1/1 [==============================] - 0s 1ms/step - loss: 0.2996\n",
            "Epoch 343/500\n",
            "1/1 [==============================] - 0s 2ms/step - loss: 0.2993\n",
            "Epoch 344/500\n",
            "1/1 [==============================] - 0s 2ms/step - loss: 0.2991\n",
            "Epoch 345/500\n",
            "1/1 [==============================] - 0s 1ms/step - loss: 0.2988\n",
            "Epoch 346/500\n",
            "1/1 [==============================] - 0s 1ms/step - loss: 0.2985\n",
            "Epoch 347/500\n",
            "1/1 [==============================] - 0s 2ms/step - loss: 0.2982\n",
            "Epoch 348/500\n",
            "1/1 [==============================] - 0s 2ms/step - loss: 0.2980\n",
            "Epoch 349/500\n",
            "1/1 [==============================] - 0s 2ms/step - loss: 0.2977\n",
            "Epoch 350/500\n",
            "1/1 [==============================] - 0s 2ms/step - loss: 0.2974\n",
            "Epoch 351/500\n",
            "1/1 [==============================] - 0s 2ms/step - loss: 0.2971\n",
            "Epoch 352/500\n",
            "1/1 [==============================] - 0s 2ms/step - loss: 0.2969\n",
            "Epoch 353/500\n",
            "1/1 [==============================] - 0s 2ms/step - loss: 0.2966\n",
            "Epoch 354/500\n",
            "1/1 [==============================] - 0s 2ms/step - loss: 0.2963\n",
            "Epoch 355/500\n",
            "1/1 [==============================] - 0s 2ms/step - loss: 0.2961\n",
            "Epoch 356/500\n",
            "1/1 [==============================] - 0s 2ms/step - loss: 0.2958\n",
            "Epoch 357/500\n",
            "1/1 [==============================] - 0s 2ms/step - loss: 0.2955\n",
            "Epoch 358/500\n",
            "1/1 [==============================] - 0s 1ms/step - loss: 0.2953\n",
            "Epoch 359/500\n",
            "1/1 [==============================] - 0s 1ms/step - loss: 0.2950\n",
            "Epoch 360/500\n",
            "1/1 [==============================] - 0s 2ms/step - loss: 0.2947\n",
            "Epoch 361/500\n",
            "1/1 [==============================] - 0s 2ms/step - loss: 0.2945\n",
            "Epoch 362/500\n",
            "1/1 [==============================] - 0s 2ms/step - loss: 0.2942\n",
            "Epoch 363/500\n",
            "1/1 [==============================] - 0s 2ms/step - loss: 0.2940\n",
            "Epoch 364/500\n",
            "1/1 [==============================] - 0s 2ms/step - loss: 0.2937\n",
            "Epoch 365/500\n",
            "1/1 [==============================] - 0s 2ms/step - loss: 0.2934\n",
            "Epoch 366/500\n",
            "1/1 [==============================] - 0s 2ms/step - loss: 0.2932\n",
            "Epoch 367/500\n",
            "1/1 [==============================] - 0s 4ms/step - loss: 0.2929\n",
            "Epoch 368/500\n",
            "1/1 [==============================] - 0s 3ms/step - loss: 0.2927\n",
            "Epoch 369/500\n",
            "1/1 [==============================] - 0s 3ms/step - loss: 0.2924\n",
            "Epoch 370/500\n",
            "1/1 [==============================] - 0s 1ms/step - loss: 0.2922\n",
            "Epoch 371/500\n",
            "1/1 [==============================] - 0s 1ms/step - loss: 0.2919\n",
            "Epoch 372/500\n",
            "1/1 [==============================] - 0s 1ms/step - loss: 0.2916\n",
            "Epoch 373/500\n",
            "1/1 [==============================] - 0s 2ms/step - loss: 0.2914\n",
            "Epoch 374/500\n",
            "1/1 [==============================] - 0s 1ms/step - loss: 0.2911\n",
            "Epoch 375/500\n",
            "1/1 [==============================] - 0s 3ms/step - loss: 0.2909\n",
            "Epoch 376/500\n",
            "1/1 [==============================] - 0s 6ms/step - loss: 0.2906\n",
            "Epoch 377/500\n",
            "1/1 [==============================] - 0s 1ms/step - loss: 0.2904\n",
            "Epoch 378/500\n",
            "1/1 [==============================] - 0s 2ms/step - loss: 0.2901\n",
            "Epoch 379/500\n",
            "1/1 [==============================] - 0s 2ms/step - loss: 0.2899\n",
            "Epoch 380/500\n",
            "1/1 [==============================] - 0s 2ms/step - loss: 0.2896\n",
            "Epoch 381/500\n",
            "1/1 [==============================] - 0s 3ms/step - loss: 0.2894\n",
            "Epoch 382/500\n",
            "1/1 [==============================] - 0s 2ms/step - loss: 0.2891\n",
            "Epoch 383/500\n",
            "1/1 [==============================] - 0s 2ms/step - loss: 0.2889\n",
            "Epoch 384/500\n",
            "1/1 [==============================] - 0s 2ms/step - loss: 0.2886\n",
            "Epoch 385/500\n",
            "1/1 [==============================] - 0s 1ms/step - loss: 0.2884\n",
            "Epoch 386/500\n",
            "1/1 [==============================] - 0s 1ms/step - loss: 0.2881\n",
            "Epoch 387/500\n",
            "1/1 [==============================] - 0s 2ms/step - loss: 0.2879\n",
            "Epoch 388/500\n",
            "1/1 [==============================] - 0s 2ms/step - loss: 0.2877\n",
            "Epoch 389/500\n",
            "1/1 [==============================] - 0s 2ms/step - loss: 0.2874\n",
            "Epoch 390/500\n",
            "1/1 [==============================] - 0s 2ms/step - loss: 0.2872\n",
            "Epoch 391/500\n",
            "1/1 [==============================] - 0s 2ms/step - loss: 0.2869\n",
            "Epoch 392/500\n",
            "1/1 [==============================] - 0s 1ms/step - loss: 0.2867\n",
            "Epoch 393/500\n",
            "1/1 [==============================] - 0s 1ms/step - loss: 0.2865\n",
            "Epoch 394/500\n",
            "1/1 [==============================] - 0s 2ms/step - loss: 0.2862\n",
            "Epoch 395/500\n",
            "1/1 [==============================] - 0s 2ms/step - loss: 0.2860\n",
            "Epoch 396/500\n",
            "1/1 [==============================] - 0s 2ms/step - loss: 0.2857\n",
            "Epoch 397/500\n",
            "1/1 [==============================] - 0s 2ms/step - loss: 0.2855\n",
            "Epoch 398/500\n",
            "1/1 [==============================] - 0s 2ms/step - loss: 0.2853\n",
            "Epoch 399/500\n",
            "1/1 [==============================] - 0s 2ms/step - loss: 0.2850\n",
            "Epoch 400/500\n",
            "1/1 [==============================] - 0s 2ms/step - loss: 0.2848\n",
            "Epoch 401/500\n",
            "1/1 [==============================] - 0s 2ms/step - loss: 0.2846\n",
            "Epoch 402/500\n",
            "1/1 [==============================] - 0s 3ms/step - loss: 0.2843\n",
            "Epoch 403/500\n",
            "1/1 [==============================] - 0s 4ms/step - loss: 0.2841\n",
            "Epoch 404/500\n",
            "1/1 [==============================] - 0s 3ms/step - loss: 0.2839\n",
            "Epoch 405/500\n",
            "1/1 [==============================] - 0s 3ms/step - loss: 0.2836\n",
            "Epoch 406/500\n",
            "1/1 [==============================] - 0s 3ms/step - loss: 0.2834\n",
            "Epoch 407/500\n",
            "1/1 [==============================] - 0s 3ms/step - loss: 0.2832\n",
            "Epoch 408/500\n",
            "1/1 [==============================] - 0s 3ms/step - loss: 0.2829\n",
            "Epoch 409/500\n",
            "1/1 [==============================] - 0s 4ms/step - loss: 0.2827\n",
            "Epoch 410/500\n",
            "1/1 [==============================] - 0s 3ms/step - loss: 0.2825\n",
            "Epoch 411/500\n",
            "1/1 [==============================] - 0s 4ms/step - loss: 0.2822\n",
            "Epoch 412/500\n",
            "1/1 [==============================] - 0s 3ms/step - loss: 0.2820\n",
            "Epoch 413/500\n",
            "1/1 [==============================] - 0s 3ms/step - loss: 0.2818\n",
            "Epoch 414/500\n",
            "1/1 [==============================] - 0s 3ms/step - loss: 0.2816\n",
            "Epoch 415/500\n",
            "1/1 [==============================] - 0s 2ms/step - loss: 0.2813\n",
            "Epoch 416/500\n",
            "1/1 [==============================] - 0s 3ms/step - loss: 0.2811\n",
            "Epoch 417/500\n",
            "1/1 [==============================] - 0s 3ms/step - loss: 0.2809\n",
            "Epoch 418/500\n",
            "1/1 [==============================] - 0s 2ms/step - loss: 0.2807\n",
            "Epoch 419/500\n",
            "1/1 [==============================] - 0s 3ms/step - loss: 0.2804\n",
            "Epoch 420/500\n",
            "1/1 [==============================] - 0s 3ms/step - loss: 0.2802\n",
            "Epoch 421/500\n",
            "1/1 [==============================] - 0s 2ms/step - loss: 0.2800\n",
            "Epoch 422/500\n",
            "1/1 [==============================] - 0s 2ms/step - loss: 0.2798\n",
            "Epoch 423/500\n",
            "1/1 [==============================] - 0s 2ms/step - loss: 0.2795\n",
            "Epoch 424/500\n",
            "1/1 [==============================] - 0s 2ms/step - loss: 0.2793\n",
            "Epoch 425/500\n",
            "1/1 [==============================] - 0s 2ms/step - loss: 0.2791\n",
            "Epoch 426/500\n",
            "1/1 [==============================] - 0s 2ms/step - loss: 0.2789\n",
            "Epoch 427/500\n",
            "1/1 [==============================] - 0s 3ms/step - loss: 0.2787\n",
            "Epoch 428/500\n",
            "1/1 [==============================] - 0s 3ms/step - loss: 0.2784\n",
            "Epoch 429/500\n",
            "1/1 [==============================] - 0s 3ms/step - loss: 0.2782\n",
            "Epoch 430/500\n",
            "1/1 [==============================] - 0s 3ms/step - loss: 0.2780\n",
            "Epoch 431/500\n",
            "1/1 [==============================] - 0s 3ms/step - loss: 0.2778\n",
            "Epoch 432/500\n",
            "1/1 [==============================] - 0s 2ms/step - loss: 0.2776\n",
            "Epoch 433/500\n",
            "1/1 [==============================] - 0s 2ms/step - loss: 0.2774\n",
            "Epoch 434/500\n",
            "1/1 [==============================] - 0s 2ms/step - loss: 0.2771\n",
            "Epoch 435/500\n",
            "1/1 [==============================] - 0s 2ms/step - loss: 0.2769\n",
            "Epoch 436/500\n",
            "1/1 [==============================] - 0s 3ms/step - loss: 0.2767\n",
            "Epoch 437/500\n",
            "1/1 [==============================] - 0s 2ms/step - loss: 0.2765\n",
            "Epoch 438/500\n",
            "1/1 [==============================] - 0s 3ms/step - loss: 0.2763\n",
            "Epoch 439/500\n",
            "1/1 [==============================] - 0s 2ms/step - loss: 0.2761\n",
            "Epoch 440/500\n",
            "1/1 [==============================] - 0s 2ms/step - loss: 0.2759\n",
            "Epoch 441/500\n",
            "1/1 [==============================] - 0s 3ms/step - loss: 0.2757\n",
            "Epoch 442/500\n",
            "1/1 [==============================] - 0s 2ms/step - loss: 0.2755\n",
            "Epoch 443/500\n",
            "1/1 [==============================] - 0s 2ms/step - loss: 0.2752\n",
            "Epoch 444/500\n",
            "1/1 [==============================] - 0s 2ms/step - loss: 0.2750\n",
            "Epoch 445/500\n",
            "1/1 [==============================] - 0s 2ms/step - loss: 0.2748\n",
            "Epoch 446/500\n",
            "1/1 [==============================] - 0s 1ms/step - loss: 0.2746\n",
            "Epoch 447/500\n",
            "1/1 [==============================] - 0s 2ms/step - loss: 0.2744\n",
            "Epoch 448/500\n",
            "1/1 [==============================] - 0s 2ms/step - loss: 0.2742\n",
            "Epoch 449/500\n",
            "1/1 [==============================] - 0s 2ms/step - loss: 0.2740\n",
            "Epoch 450/500\n",
            "1/1 [==============================] - 0s 2ms/step - loss: 0.2738\n",
            "Epoch 451/500\n",
            "1/1 [==============================] - 0s 2ms/step - loss: 0.2736\n",
            "Epoch 452/500\n",
            "1/1 [==============================] - 0s 2ms/step - loss: 0.2734\n",
            "Epoch 453/500\n",
            "1/1 [==============================] - 0s 2ms/step - loss: 0.2732\n",
            "Epoch 454/500\n",
            "1/1 [==============================] - 0s 2ms/step - loss: 0.2730\n",
            "Epoch 455/500\n",
            "1/1 [==============================] - 0s 2ms/step - loss: 0.2728\n",
            "Epoch 456/500\n",
            "1/1 [==============================] - 0s 1ms/step - loss: 0.2726\n",
            "Epoch 457/500\n",
            "1/1 [==============================] - 0s 2ms/step - loss: 0.2724\n",
            "Epoch 458/500\n",
            "1/1 [==============================] - 0s 4ms/step - loss: 0.2722\n",
            "Epoch 459/500\n",
            "1/1 [==============================] - 0s 3ms/step - loss: 0.2720\n",
            "Epoch 460/500\n",
            "1/1 [==============================] - 0s 4ms/step - loss: 0.2718\n",
            "Epoch 461/500\n",
            "1/1 [==============================] - 0s 3ms/step - loss: 0.2716\n",
            "Epoch 462/500\n",
            "1/1 [==============================] - 0s 3ms/step - loss: 0.2714\n",
            "Epoch 463/500\n",
            "1/1 [==============================] - 0s 4ms/step - loss: 0.2712\n",
            "Epoch 464/500\n",
            "1/1 [==============================] - 0s 2ms/step - loss: 0.2710\n",
            "Epoch 465/500\n",
            "1/1 [==============================] - 0s 1ms/step - loss: 0.2708\n",
            "Epoch 466/500\n",
            "1/1 [==============================] - 0s 3ms/step - loss: 0.2706\n",
            "Epoch 467/500\n",
            "1/1 [==============================] - 0s 2ms/step - loss: 0.2704\n",
            "Epoch 468/500\n",
            "1/1 [==============================] - 0s 3ms/step - loss: 0.2702\n",
            "Epoch 469/500\n",
            "1/1 [==============================] - 0s 3ms/step - loss: 0.2700\n",
            "Epoch 470/500\n",
            "1/1 [==============================] - 0s 3ms/step - loss: 0.2698\n",
            "Epoch 471/500\n",
            "1/1 [==============================] - 0s 2ms/step - loss: 0.2696\n",
            "Epoch 472/500\n",
            "1/1 [==============================] - 0s 2ms/step - loss: 0.2694\n",
            "Epoch 473/500\n",
            "1/1 [==============================] - 0s 4ms/step - loss: 0.2692\n",
            "Epoch 474/500\n",
            "1/1 [==============================] - 0s 2ms/step - loss: 0.2690\n",
            "Epoch 475/500\n",
            "1/1 [==============================] - 0s 2ms/step - loss: 0.2688\n",
            "Epoch 476/500\n",
            "1/1 [==============================] - 0s 2ms/step - loss: 0.2687\n",
            "Epoch 477/500\n",
            "1/1 [==============================] - 0s 3ms/step - loss: 0.2685\n",
            "Epoch 478/500\n",
            "1/1 [==============================] - 0s 1ms/step - loss: 0.2683\n",
            "Epoch 479/500\n",
            "1/1 [==============================] - 0s 1ms/step - loss: 0.2681\n",
            "Epoch 480/500\n",
            "1/1 [==============================] - 0s 2ms/step - loss: 0.2679\n",
            "Epoch 481/500\n",
            "1/1 [==============================] - 0s 3ms/step - loss: 0.2677\n",
            "Epoch 482/500\n",
            "1/1 [==============================] - 0s 3ms/step - loss: 0.2675\n",
            "Epoch 483/500\n",
            "1/1 [==============================] - 0s 2ms/step - loss: 0.2673\n",
            "Epoch 484/500\n",
            "1/1 [==============================] - 0s 1ms/step - loss: 0.2671\n",
            "Epoch 485/500\n",
            "1/1 [==============================] - 0s 2ms/step - loss: 0.2670\n",
            "Epoch 486/500\n",
            "1/1 [==============================] - 0s 1ms/step - loss: 0.2668\n",
            "Epoch 487/500\n",
            "1/1 [==============================] - 0s 2ms/step - loss: 0.2666\n",
            "Epoch 488/500\n",
            "1/1 [==============================] - 0s 2ms/step - loss: 0.2664\n",
            "Epoch 489/500\n",
            "1/1 [==============================] - 0s 2ms/step - loss: 0.2662\n",
            "Epoch 490/500\n",
            "1/1 [==============================] - 0s 2ms/step - loss: 0.2660\n",
            "Epoch 491/500\n",
            "1/1 [==============================] - 0s 2ms/step - loss: 0.2659\n",
            "Epoch 492/500\n",
            "1/1 [==============================] - 0s 2ms/step - loss: 0.2657\n",
            "Epoch 493/500\n",
            "1/1 [==============================] - 0s 2ms/step - loss: 0.2655\n",
            "Epoch 494/500\n",
            "1/1 [==============================] - 0s 1ms/step - loss: 0.2653\n",
            "Epoch 495/500\n",
            "1/1 [==============================] - 0s 2ms/step - loss: 0.2651\n",
            "Epoch 496/500\n",
            "1/1 [==============================] - 0s 2ms/step - loss: 0.2649\n",
            "Epoch 497/500\n",
            "1/1 [==============================] - 0s 1ms/step - loss: 0.2648\n",
            "Epoch 498/500\n",
            "1/1 [==============================] - 0s 2ms/step - loss: 0.2646\n",
            "Epoch 499/500\n",
            "1/1 [==============================] - 0s 1ms/step - loss: 0.2644\n",
            "Epoch 500/500\n",
            "1/1 [==============================] - 0s 2ms/step - loss: 0.2642\n"
          ],
          "name": "stdout"
        },
        {
          "output_type": "execute_result",
          "data": {
            "text/plain": [
              "<tensorflow.python.keras.callbacks.History at 0x7f355e0ca550>"
            ]
          },
          "metadata": {
            "tags": []
          },
          "execution_count": 49
        }
      ]
    },
    {
      "cell_type": "code",
      "metadata": {
        "id": "vv6_2ho-qVWx",
        "colab_type": "code",
        "colab": {
          "base_uri": "https://localhost:8080/",
          "height": 34
        },
        "outputId": "5b1c6f48-9b01-4ccf-c3af-3bacaae70d63"
      },
      "source": [
        "model.get_weights()"
      ],
      "execution_count": 50,
      "outputs": [
        {
          "output_type": "execute_result",
          "data": {
            "text/plain": [
              "[array([[1.7574121]], dtype=float32), array([-2.0703146], dtype=float32)]"
            ]
          },
          "metadata": {
            "tags": []
          },
          "execution_count": 50
        }
      ]
    },
    {
      "cell_type": "code",
      "metadata": {
        "id": "kaHmDhXIsnDn",
        "colab_type": "code",
        "colab": {
          "base_uri": "https://localhost:8080/",
          "height": 34
        },
        "outputId": "5c067e80-42c2-4a39-b9ae-a7fddbf92369"
      },
      "source": [
        "2*1.7528472-2.0528204"
      ],
      "execution_count": 51,
      "outputs": [
        {
          "output_type": "execute_result",
          "data": {
            "text/plain": [
              "1.452874"
            ]
          },
          "metadata": {
            "tags": []
          },
          "execution_count": 51
        }
      ]
    },
    {
      "cell_type": "code",
      "metadata": {
        "id": "4wLFfAMo7neg",
        "colab_type": "code",
        "colab": {}
      },
      "source": [
        "y_pred = model.predict([1,2,3,4,5])"
      ],
      "execution_count": 53,
      "outputs": []
    },
    {
      "cell_type": "code",
      "metadata": {
        "id": "hwtusIYgnmf9",
        "colab_type": "code",
        "colab": {
          "base_uri": "https://localhost:8080/",
          "height": 34
        },
        "outputId": "05ae8b79-6414-440e-e70b-e03e733ec333"
      },
      "source": [
        ""
      ],
      "execution_count": 18,
      "outputs": [
        {
          "output_type": "execute_result",
          "data": {
            "text/plain": [
              "16.6379835"
            ]
          },
          "metadata": {
            "tags": []
          },
          "execution_count": 18
        }
      ]
    },
    {
      "cell_type": "code",
      "metadata": {
        "id": "By6vGow4rDIk",
        "colab_type": "code",
        "colab": {
          "base_uri": "https://localhost:8080/",
          "height": 34
        },
        "outputId": "6b6f0c86-d1d9-432c-e11f-c33ee2790860"
      },
      "source": [
        "from sklearn.metrics import mean_squared_error\n",
        "mean_squared_error(y_pred,y)"
      ],
      "execution_count": 54,
      "outputs": [
        {
          "output_type": "execute_result",
          "data": {
            "text/plain": [
              "0.26404949735989475"
            ]
          },
          "metadata": {
            "tags": []
          },
          "execution_count": 54
        }
      ]
    },
    {
      "cell_type": "code",
      "metadata": {
        "id": "EGgZGRNgxJn6",
        "colab_type": "code",
        "colab": {}
      },
      "source": [
        ""
      ],
      "execution_count": null,
      "outputs": []
    }
  ]
}